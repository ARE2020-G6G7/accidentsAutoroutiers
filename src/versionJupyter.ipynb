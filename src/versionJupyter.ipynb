{
 "cells": [
  {
   "cell_type": "code",
   "execution_count": 3,
   "metadata": {},
   "outputs": [],
   "source": [
    "def alcool (a):\n",
    "    \"\"\"Number ->Number\"\"\"\n",
    "    #D:dict[Number:Number]\n",
    "    D={0.5:2, 0.8:10, 1.5:32}\n",
    "    #pre:Number\n",
    "    pre=0\n",
    "    #Min:Number\n",
    "    Min=10000\n",
    "    if a==0:\n",
    "        return 1\n",
    "    else:\n",
    "        #k:Number\n",
    "        for k in D:\n",
    "           if  abs(a-k)<Min:\n",
    "               Min=abs(a-k)\t    \n",
    "               pre=k\n",
    "        return a*D[pre]/pre"
   ] 
  },
  {
   "cell_type": "code",
   "execution_count": 4,
   "metadata": {},
   "outputs": [],
   "source": [
    "\n",
    "def eveil(e):\n",
    "    \"\"\"int->int\"\"\"\n",
    "    if e>=17 and e<21:\n",
    "        return alcool(0.5)\n",
    "    elif e>=21:\n",
    "        return alcool(0.8)\n",
    "    return 1"
   ]
  },
  {
   "cell_type": "code",
   "execution_count": 5,
   "metadata": {},
   "outputs": [],
   "source": [
    "def moment(m):\n",
    "    \"\"\"Number->Number\"\"\"\n",
    "    if (2<=m and m<=5) or (13<=m and m<=16): \n",
    "        return 5.6\n",
    "    return 1"
   ]
  },
  {
   "cell_type": "code",
   "execution_count": 6,
   "metadata": {},
   "outputs": [],
   "source": [
    "def Week_End(WE):\n",
    "    \"\"\"bool->Number\"\"\"\n",
    "    if WE==True:\n",
    "        return 2.7\n",
    "    return 1"
   ]
  },
  {
   "cell_type": "code",
   "execution_count": 7,
   "metadata": {},
   "outputs": [],
   "source": [
    "def jour(j):\n",
    "    \"\"\"str->int\"\"\"\n",
    "    if j=='Lundi' or j=='lundi':\n",
    "        return 1\n",
    "    elif j=='Mardi' or j=='mardi':\n",
    "        return 2\n",
    "    elif j=='Mercredi' or j=='mercredi':\n",
    "        return 3\n",
    "    elif j=='Jeudi' or j=='jeudi':\n",
    "        return 4\n",
    "    elif j=='Vendredi' or j=='vendredi':\n",
    "        return 5\n",
    "    elif j=='Samedi' or j=='samedi':\n",
    "        return 6\n",
    "    elif j==\"Dimanche\" or j==\"dimanche\":\n",
    "        return 7"
   ]
  },
  {
   "cell_type": "code",
   "execution_count": 9,
   "metadata": {},
   "outputs": [
    {
     "ename": "IndentationError",
     "evalue": "unindent does not match any outer indentation level (<tokenize>, line 23)",
     "output_type": "error",
     "traceback": [
      "\u001b[0;36m  File \u001b[0;32m\"<tokenize>\"\u001b[0;36m, line \u001b[0;32m23\u001b[0m\n\u001b[0;31m    if jour(j)==5 and h==24:   #WE ou non\u001b[0m\n\u001b[0m    ^\u001b[0m\n\u001b[0;31mIndentationError\u001b[0m\u001b[0;31m:\u001b[0m unindent does not match any outer indentation level\n"
     ]
    }
   ],
   "source": [
    "      \n",
    "#BROUILLON à àméliorer, diviser\n",
    "def voie1(a,m,WE,sexe,j):                                            \n",
    "    “””Number*int*bool*str*int->\n",
    "    hyp: 0<m<=24, sexe=”femme” ou sexe=”homme”   “”””\n",
    "    #coeff:Number\n",
    "    coeff=1\n",
    "    #coeffalcool:Number\n",
    "    coeffalcool=1\n",
    "    #h:Number\n",
    "    h=m\n",
    "    #h1:Number   \n",
    "    h1=0\n",
    "    #r:int\n",
    "    r=1\n",
    "    while \n",
    "        if tour>1:   #apres premiere h de conduite \n",
    "             if alcool(a)>=1 and sexe==”homme”:  #genre du conducteur\n",
    "                   a=a - 0,125\n",
    "             elif alcool(a)>= 1:\n",
    "                   a= a - 0.0925  \n",
    "             coeffalcool=alcool(a) \n",
    "\n",
    "            if jour(j)==5 and h==24:   #WE ou non\n",
    "                   WE= True\n",
    "            elif jour(j)==7 and h==24:\n",
    "                   WE= False\n",
    "            coeffWE=Week_End(WE)\n",
    "            \n",
    "            if (h-h1)%2==0:   #aire de repos obligatoire 20min\n",
    "                   h=h+(⅓)\n",
    "                   h1=(⅓)*r\n",
    "                   r=r+1\n",
    "      tour=tour+1\n",
    "      coeff=coeff*Week_End(WE)*moment(h)     \n",
    "      h=h+1\n",
    "    return  tour  \n",
    "      \n",
    "      \n",
    "\n"
   ]
  }
 ],
 "metadata": {
  "kernelspec": {
   "display_name": "Python 3",
   "language": "python",
   "name": "python3"
  },
  "language_info": {
   "codemirror_mode": {
    "name": "ipython",
    "version": 3
   },
   "file_extension": ".py",
   "mimetype": "text/x-python",
   "name": "python",
   "nbconvert_exporter": "python",
   "pygments_lexer": "ipython3",
   "version": "3.7.6"
  }
 },
 "nbformat": 4,
 "nbformat_minor": 4
}
