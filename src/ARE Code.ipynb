{
 "cells": [
  {
   "cell_type": "code",
   "execution_count": 60,
   "metadata": {},
   "outputs": [],
   "source": [
    "import random"
   ]
  },
  {
   "cell_type": "code",
   "execution_count": 61,
   "metadata": {},
   "outputs": [],
   "source": [
    "def eveil(e):\n",
    "    \"\"\"int->Number\"\"\"\n",
    "    if e>=17 and e<21:\n",
    "        return alcool(0.5)\n",
    "    elif e>=21:\n",
    "        return alcool(0.8)\n",
    "    return 1"
   ]
  },
  {
   "cell_type": "code",
   "execution_count": 62,
   "metadata": {},
   "outputs": [],
   "source": [
    "def alcool (a):\n",
    "    \"\"\"Number ->Number\"\"\"\n",
    "    #D:dict[Number:Number]\n",
    "    D={0.5:2, 0.8:10, 1.5:32}\n",
    "    #pre:Number\n",
    "    pre=0\n",
    "    #Min:Number\n",
    "    Min=1000\n",
    "    #k:Number\n",
    "    if a > 0.5 :\n",
    "        #k:Number\n",
    "        for k in D:\n",
    "            if  abs(a-k) <Min:\n",
    "                Min=abs(a-k)\t    \n",
    "                pre=k\n",
    "        return a*D[pre]/pre\n",
    "    return 1"
   ]
  },
  {
   "cell_type": "code",
   "execution_count": 63,
   "metadata": {},
   "outputs": [],
   "source": [
    "def coeff_alcool(a,S):\n",
    "    \"\"\"Number*str->Number\n",
    "    hyp: S=”Femme” or S==”Homme\"\"\"\n",
    "    #a1:Number\n",
    "    a1=a\n",
    "    if alcool(a1)> 1:\n",
    "        a1=a1 - sexe(S)\n",
    "    return alcool(a1)"
   ]
  },
  {
   "cell_type": "code",
   "execution_count": 64,
   "metadata": {},
   "outputs": [],
   "source": [
    "def jour(jour):\n",
    "    \"\"\"str->int\"\"\"\n",
    "    if jour=='Lundi':\n",
    "        return 1\n",
    "    elif jour=='Mardi':\n",
    "        return 2\n",
    "    elif jour=='Mercredi':\n",
    "        return 3\n",
    "    elif jour=='Jeudi':\n",
    "        return 4\n",
    "    elif jour=='Vendredi':\n",
    "        return 5\n",
    "    elif jour=='Samedi':\n",
    "        return 6\n",
    "    elif jour=='Dimanche':\n",
    "        return 7"
   ]
  },
  {
   "cell_type": "code",
   "execution_count": 65,
   "metadata": {},
   "outputs": [],
   "source": [
    "def week(jj):\n",
    "    \"\"\"int->int\"\"\"\n",
    "    if jj<8:\n",
    "         return jj+1\n",
    "    if jj==8:\n",
    "        return 1"
   ]
  },
  {
   "cell_type": "code",
   "execution_count": 66,
   "metadata": {},
   "outputs": [],
   "source": [
    "def moment (m,j):\n",
    "    \"\"\"int*str->Number\"\"\"\n",
    "    #z:int\n",
    "    z=m\n",
    "    #jj:int\n",
    "    jj=jour(j)\n",
    "    if (jj==6 or jj==7) and m<24:\n",
    "        if (2<=z and z<=5) or (13<=z and z<=16):\n",
    "            return 5.6*2.7\n",
    "        else:\n",
    "            return 2.7\n",
    "    elif (jj!=6 or jj!=7) and m<24:\n",
    "        if (2<=z and z<=5) or (13<=z and z<=16):\n",
    "            return 5.6\n",
    "        else:\n",
    "            return 1\n",
    "    elif z%24==0:\n",
    "        jj=week(jj+1)\n",
    "        z=0\n",
    "        return 1"
   ]
  },
  {
   "cell_type": "code",
   "execution_count": 67,
   "metadata": {},
   "outputs": [],
   "source": [
    "def sexe(S):\n",
    "    \"\"\"str->float\n",
    "    hyp: S==”Femme” or S==”Homme” \"\"\"\n",
    "    if S==\"Femme\":\n",
    "        return 0.0925\n",
    "    return 0.125"
   ]
  },
  {
   "cell_type": "code",
   "execution_count": 68,
   "metadata": {},
   "outputs": [],
   "source": [
    "def coeff_par_voie(voie):\n",
    "    \"\"\"int-> Number\n",
    "    hyp: voie==1 or voie==2 or voie==3\"\"\"\n",
    "    if voie==1:\n",
    "        return 1\n",
    "    if voie ==2:\n",
    "        return 16\n",
    "    if voie==3:\n",
    "        return 28"
   ]
  },
  {
   "cell_type": "code",
   "execution_count": 69,
   "metadata": {},
   "outputs": [],
   "source": [
    "def aire_de_repos(h,h1):\n",
    "      \"\"\"Number*Number->Number\"\"\"\n",
    "      if (h-h1)%2==0:\n",
    "          return h+(1/3) \n",
    "      return h"
   ]
  },
  {
   "cell_type": "code",
   "execution_count": 70,
   "metadata": {},
   "outputs": [],
   "source": [
    "def sommeil (dodo):\n",
    "    \"\"\"Number->Number\"\"\"\n",
    "    if dodo<4:\n",
    "        return 11.5\n",
    "    elif 4<=dodo<5:\n",
    "        return 4.3\n",
    "    elif 5<=dodo<6:\n",
    "        return 1.9\n",
    "    elif 6<=dodo<7:\n",
    "        return 1.3\n",
    "    return 1 "
   ]
  },
  {
   "cell_type": "code",
   "execution_count": 71,
   "metadata": {},
   "outputs": [],
   "source": [
    "def vitesse(voie):\n",
    "    \"\"\"int->int\"\"\"\n",
    "    if 1:\n",
    "        return 60\n",
    "    elif 2:\n",
    "        return 90\n",
    "    return 130"
   ]
  },
  {
   "cell_type": "code",
   "execution_count": 88,
   "metadata": {},
   "outputs": [
    {
     "data": {
      "text/plain": [
       "{1: (10.666666666666666,\n",
       "  10.0,\n",
       "  0.6666666666666666,\n",
       "  [0.001392,\n",
       "   0.001392,\n",
       "   0.001392,\n",
       "   0.001392,\n",
       "   0.001392,\n",
       "   0.001392,\n",
       "   0.001392,\n",
       "   0.001392,\n",
       "   0.001392,\n",
       "   0.001392],\n",
       "  True),\n",
       " 2: (4.333333333333334,\n",
       "  3.6666666666666674,\n",
       "  0.6666666666666666,\n",
       "  [0.022272, 0.356352, 5.701632, 91.226112],\n",
       "  True),\n",
       " 3: (4.333333333333334,\n",
       "  3.6666666666666674,\n",
       "  0.6666666666666666,\n",
       "  [0.038976, 1.0913279999999999, 30.557183999999996, 855.6011519999998],\n",
       "  True)}"
      ]
     },
     "execution_count": 88,
     "metadata": {},
     "output_type": "execute_result"
    }
   ],
   "source": [
    "def voie_globale(j,m,S,a,dodo):\n",
    "    \"\"\"str*int*str*Number*Number->dict[int:tuple[Number,int,Number,list[Number],bool]]\n",
    " hyp: voie = 1(voie lente), 2(voie centrale) ou 3(voie d’accélération), j est un jour de la       semaine avec une majuscule, S==”Femme” or S==”Homme”, 0<=m (moment de la journée)<=24\"\"\"\n",
    "    Lcoeff_g=[]\n",
    "    e1=1\n",
    "    r=0\n",
    "    DR=dict()      \n",
    "    e=0\n",
    "    fin=False\n",
    "    b=True\n",
    "    for c in range (1,4):\n",
    "        while not  fin:\n",
    "            if b:\n",
    "                coeff_g=0.0000232*vitesse(c)\n",
    "                coeff_g= coeff_g* coeff_alcool(a,S)* moment(m,j)* coeff_par_voie(c)* sommeil(dodo)* eveil(e)\n",
    "                b=False\n",
    "                if random.randrange(0,100,1)<coeff_g:\n",
    "                    fin= True\n",
    "            else:\n",
    "                coeff_g= coeff_g* coeff_alcool(a,S)* moment(m,j)*coeff_par_voie(c)* sommeil(dodo)* eveil(e)\n",
    "                epre=e\n",
    "                e=aire_de_repos(e,e1)\n",
    "                if epre!=e:         # h1=min de repos total   r=nb de fois ou aire de repos\n",
    "                    r=r+1\n",
    "                    e1=(1/3)*r\n",
    "                \n",
    "                if random.randrange(0,100,1)<coeff_g:\n",
    "                    fin= True\n",
    "            e=e+1      #nbre d’heure d’eveil\n",
    "            Lcoeff_g.append(coeff_g)\n",
    "        DR[c]=(e,e-e1,e1,Lcoeff_g, fin)\n",
    "        Lcoeff_g=[]\n",
    "        e=0\n",
    "        e1=0\n",
    "        r=1\n",
    "        b=True\n",
    "        fin=False\n",
    "    return DR\n",
    "voie_globale(\"Mardi\",10,\"Homme\",0.3,8)"
   ]
  },
  {
   "cell_type": "code",
   "execution_count": 80,
   "metadata": {},
   "outputs": [
    {
     "data": {
      "text/plain": [
       "[[0.001392,\n",
       "  0.001392,\n",
       "  0.001392,\n",
       "  0.001392,\n",
       "  0.001392,\n",
       "  0.001392,\n",
       "  0.001392,\n",
       "  0.001392,\n",
       "  0.001392,\n",
       "  0.001392,\n",
       "  0.001392,\n",
       "  0.001392,\n",
       "  0.001392,\n",
       "  0.001392,\n",
       "  0.001392,\n",
       "  0.001392,\n",
       "  0.001392,\n",
       "  0.001392,\n",
       "  0.001392,\n",
       "  0.01392,\n",
       "  0.1392,\n",
       "  1.392,\n",
       "  13.919999999999998,\n",
       "  139.2],\n",
       " [0.022272, 0.356352, 5.701632, 91.226112],\n",
       " [0.038976, 1.0913279999999999, 30.557183999999996, 855.6011519999998]]"
      ]
     },
     "execution_count": 80,
     "metadata": {},
     "output_type": "execute_result"
    }
   ],
   "source": [
    "\"\"\"\"\"\"def list_for_board(i,DT):\n",
    "    \"\"\"int*dict[int:tuple[Number, int, Number,list[Number],bool]]->list[alpha]\n",
    "    hyp: i appartient à [0;4]\"\"\"\n",
    "    #L:list[alpha]\n",
    "    L=[]\n",
    "    if i==3:    \n",
    "        return [DT[l] [i] [len(DT[l] [i])-1] for l in range (1, 4) ]   # liste qui prend le last\n",
    "    else:\n",
    "        return [DT[l] [i] for l in range (1, 4) ]    #liste qui prend le “fin” si i=2 ou e si i=0\n",
    "\n",
    "list_for_board(3,voie_globale(\"Mardi\",10,\"Homme\",0.3,8))"
   ]
  },
  {
   "cell_type": "code",
   "execution_count": 101,
   "metadata": {},
   "outputs": [
    {
     "data": {
      "text/plain": [
       "[0.038976, 1.0913279999999999, 30.557183999999996, 855.6011519999998]"
      ]
     },
     "execution_count": 101,
     "metadata": {},
     "output_type": "execute_result"
    }
   ],
   "source": [
    "def list_for_graph(i,v, DT):\n",
    "    \"\"\"str**2*dict[int:tuple[Number, int, Number,list[Number],bool]]->list[alpha]\n",
    "hyp:i==’heure de conduite’ or i==’liste de coeff’ , v appartient à [1,3]\"\"\"\n",
    "    if  i==\"heure de conduite\":\n",
    "        return [i for i in range (0, len(DT[v][3]))]\n",
    "    else:\n",
    "        return list_for_board(3,DT)[v-1]\n",
    "                                  \n",
    "list_for_graph(\"heure de conduite\",3,DT)\n",
    "list_for_graph(\"liste de coeff\",3,DT)"
   ]
  },
  {
   "cell_type": "code",
   "execution_count": 81,
   "metadata": {},
   "outputs": [
    {
     "ename": "SyntaxError",
     "evalue": "EOF while scanning triple-quoted string literal (<ipython-input-81-e54e06965266>, line 12)",
     "output_type": "error",
     "traceback": [
      "\u001b[1;36m  File \u001b[1;32m\"<ipython-input-81-e54e06965266>\"\u001b[1;36m, line \u001b[1;32m12\u001b[0m\n\u001b[1;33m    tout_df=pd.DataFrame(liste,index=[\"Nombre d'heure d'éveil\",\"Temps de conduite\",\"Temps derepos\",\"Risque d'accident\",\"Accident\"],columns=[\"1\", \"2\", \"3\"])\u001b[0m\n\u001b[1;37m                                                                                                                                                           \n^\u001b[0m\n\u001b[1;31mSyntaxError\u001b[0m\u001b[1;31m:\u001b[0m EOF while scanning triple-quoted string literal\n"
     ]
    }
   ],
   "source": [
    "\"\"\"\"import numpy as np\n",
    "import pandas as pd\n",
    "import matplotlib.pyplot as plt\n",
    "\n",
    "#le int = nbre d'heure d'eveil, le Number= risque d'accident, Bool= accident ou non\n",
    "\n",
    "#tout:list[tuple[Number,int,Number,list[Number],bool]]\n",
    "#tout = \n",
    "#tout_numpy=np.array(tout) #j'crois que ca sert a rien ca\n",
    "DT=voie_globale(j,m,S,a,dodo)\n",
    "liste=[[list_for_board(0,DT)]+[list_for_board(1,DT)]+[list_for_board(2,DT)]+[list_for_board(3,DT)]+[list_for_board(4,DT)]]\n",
    "tout_df=pd.DataFrame(liste,index=[\"Nombre d'heure d'éveil\",\"Temps de conduite\",\"Temps derepos\",\"Risque d'accident\",\"Accident\"],columns=[\"1\", \"2\", \"3\"])"
   ]
  },
  {
   "cell_type": "code",
   "execution_count": null,
   "metadata": {},
   "outputs": [],
   "source": []
  }
 ],
 "metadata": {
  "kernelspec": {
   "display_name": "Python 3",
   "language": "python",
   "name": "python3"
  },
  "language_info": {
   "codemirror_mode": {
    "name": "ipython",
    "version": 3
   },
   "file_extension": ".py",
   "mimetype": "text/x-python",
   "name": "python",
   "nbconvert_exporter": "python",
   "pygments_lexer": "ipython3",
   "version": "3.7.4"
  }
 },
 "nbformat": 4,
 "nbformat_minor": 2
}
